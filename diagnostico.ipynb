{
 "cells": [
  {
   "cell_type": "markdown",
   "metadata": {},
   "source": [
    "## Evaluación diagnostica"
   ]
  },
  {
   "cell_type": "code",
   "execution_count": 4,
   "metadata": {},
   "outputs": [],
   "source": [
    "import re\n",
    "import json"
   ]
  },
  {
   "cell_type": "code",
   "execution_count": 8,
   "metadata": {},
   "outputs": [],
   "source": [
    "tweets = []\n",
    "for line in open('data.json', 'r'):\n",
    "    tweets.append(json.loads(line))"
   ]
  },
  {
   "cell_type": "code",
   "execution_count": 12,
   "metadata": {},
   "outputs": [
    {
     "data": {
      "text/plain": [
       "{'url': 'https://twitter.com/ShashiRajbhar6/status/1376739399593910273',\n",
       " 'date': '2021-03-30T03:33:46+00:00',\n",
       " 'content': 'Support 👇\\n\\n#FarmersProtest',\n",
       " 'renderedContent': 'Support 👇\\n\\n#FarmersProtest',\n",
       " 'id': 1376739399593910273,\n",
       " 'user': {'username': 'ShashiRajbhar6',\n",
       "  'displayname': 'Shashi Rajbhar',\n",
       "  'id': 1015969769760096256,\n",
       "  'description': \"Satya presan 🤔ho Sakta but prajit💪 nhi\\njhuth se samjhauta kbhi nhi\\nJai Shree Ram 🕉 🙏🕉 followed by hon'ble @ArunrajbharSbsp\",\n",
       "  'rawDescription': \"Satya presan 🤔ho Sakta but prajit💪 nhi\\njhuth se samjhauta kbhi nhi\\nJai Shree Ram 🕉 🙏🕉 followed by hon'ble @ArunrajbharSbsp\",\n",
       "  'descriptionUrls': [],\n",
       "  'verified': False,\n",
       "  'created': '2018-07-08T14:44:03+00:00',\n",
       "  'followersCount': 1788,\n",
       "  'friendsCount': 1576,\n",
       "  'statusesCount': 14396,\n",
       "  'favouritesCount': 26071,\n",
       "  'listedCount': 1,\n",
       "  'mediaCount': 254,\n",
       "  'location': 'Azm Uttar Pradesh, India',\n",
       "  'protected': False,\n",
       "  'linkUrl': None,\n",
       "  'linkTcourl': None,\n",
       "  'profileImageUrl': 'https://pbs.twimg.com/profile_images/1354331299868237825/eDzdhZTD_normal.jpg',\n",
       "  'profileBannerUrl': 'https://pbs.twimg.com/profile_banners/1015969769760096256/1613727783',\n",
       "  'url': 'https://twitter.com/ShashiRajbhar6'},\n",
       " 'outlinks': [],\n",
       " 'tcooutlinks': [],\n",
       " 'replyCount': 0,\n",
       " 'retweetCount': 0,\n",
       " 'likeCount': 0,\n",
       " 'quoteCount': 0,\n",
       " 'conversationId': 1376739399593910273,\n",
       " 'lang': 'en',\n",
       " 'source': '<a href=\"http://twitter.com/download/android\" rel=\"nofollow\">Twitter for Android</a>',\n",
       " 'sourceUrl': 'http://twitter.com/download/android',\n",
       " 'sourceLabel': 'Twitter for Android',\n",
       " 'media': None,\n",
       " 'retweetedTweet': None,\n",
       " 'quotedTweet': None,\n",
       " 'mentionedUsers': None}"
      ]
     },
     "execution_count": 12,
     "metadata": {},
     "output_type": "execute_result"
    }
   ],
   "source": [
    "tweets[0]"
   ]
  },
  {
   "cell_type": "markdown",
   "metadata": {},
   "source": [
    "### Función 1"
   ]
  },
  {
   "cell_type": "code",
   "execution_count": 67,
   "metadata": {},
   "outputs": [],
   "source": [
    "def top_tweets():\n",
    "    teewts_copy = tweets\n",
    "    total_tweets = len(tweets)\n",
    "    min_of_max = 0\n",
    "    more_retweeted = sorted(teewts_copy, key=lambda tweet : tweet['retweetCount'])\n",
    "\n",
    "    for j in range(0, 10):\n",
    "        print(more_retweeted[total_tweets-j-1]['url'], \"Retweed:\", more_retweeted[total_tweets-j-1]['retweetCount'])\n",
    "                \n",
    "    "
   ]
  },
  {
   "cell_type": "markdown",
   "metadata": {},
   "source": [
    "### Main"
   ]
  },
  {
   "cell_type": "code",
   "execution_count": 68,
   "metadata": {},
   "outputs": [
    {
     "name": "stdout",
     "output_type": "stream",
     "text": [
      "Top 10 tweets más retweeted\n",
      "\n",
      "https://twitter.com/rihanna/status/1356625889602199552 Retweed: 315547\n",
      "https://twitter.com/GretaThunberg/status/1356694884615340037 Retweed: 103957\n",
      "https://twitter.com/GretaThunberg/status/1357282507616645122 Retweed: 67694\n",
      "https://twitter.com/miakhalifa/status/1356848397899112448 Retweed: 35921\n",
      "https://twitter.com/miakhalifa/status/1356827705161879553 Retweed: 26972\n",
      "https://twitter.com/TeamJuJu/status/1357048037302960129 Retweed: 23251\n",
      "https://twitter.com/BobBlackman/status/1357755699162398720 Retweed: 20132\n",
      "https://twitter.com/vanessa_vash/status/1356681136655769605 Retweed: 18744\n",
      "https://twitter.com/kylekuzma/status/1357009721090138112 Retweed: 17368\n",
      "https://twitter.com/AmandaCerny/status/1359013362881994752 Retweed: 15677\n"
     ]
    }
   ],
   "source": [
    "def main():\n",
    "    print(\"Top 10 tweets más retweeted\\n\")\n",
    "    top_tweets()\n",
    "    \n",
    "main()"
   ]
  },
  {
   "cell_type": "markdown",
   "metadata": {},
   "source": [
    "#### Referencias"
   ]
  },
  {
   "cell_type": "markdown",
   "metadata": {},
   "source": [
    "https://j2logo.com/python/ordenar-una-lista-en-python/"
   ]
  }
 ],
 "metadata": {
  "kernelspec": {
   "display_name": "Python 3",
   "language": "python",
   "name": "python3"
  },
  "language_info": {
   "codemirror_mode": {
    "name": "ipython",
    "version": 3
   },
   "file_extension": ".py",
   "mimetype": "text/x-python",
   "name": "python",
   "nbconvert_exporter": "python",
   "pygments_lexer": "ipython3",
   "version": "3.8.6"
  }
 },
 "nbformat": 4,
 "nbformat_minor": 4
}
