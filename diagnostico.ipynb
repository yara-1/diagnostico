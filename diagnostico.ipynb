{
 "cells": [
  {
   "cell_type": "markdown",
   "metadata": {},
   "source": [
    "## Evaluación diagnostica"
   ]
  },
  {
   "cell_type": "code",
   "execution_count": 220,
   "metadata": {},
   "outputs": [],
   "source": [
    "import re\n",
    "import operator\n",
    "import json"
   ]
  },
  {
   "cell_type": "code",
   "execution_count": 22,
   "metadata": {},
   "outputs": [],
   "source": [
    "tweets = []\n",
    "for line in open('data.json', 'r'):\n",
    "    tweets.append(json.loads(line))"
   ]
  },
  {
   "cell_type": "code",
   "execution_count": 102,
   "metadata": {},
   "outputs": [
    {
     "data": {
      "text/plain": [
       "{'username': 'ShashiRajbhar6',\n",
       " 'displayname': 'Shashi Rajbhar',\n",
       " 'id': 1015969769760096256,\n",
       " 'description': \"Satya presan 🤔ho Sakta but prajit💪 nhi\\njhuth se samjhauta kbhi nhi\\nJai Shree Ram 🕉 🙏🕉 followed by hon'ble @ArunrajbharSbsp\",\n",
       " 'rawDescription': \"Satya presan 🤔ho Sakta but prajit💪 nhi\\njhuth se samjhauta kbhi nhi\\nJai Shree Ram 🕉 🙏🕉 followed by hon'ble @ArunrajbharSbsp\",\n",
       " 'descriptionUrls': [],\n",
       " 'verified': False,\n",
       " 'created': '2018-07-08T14:44:03+00:00',\n",
       " 'followersCount': 1788,\n",
       " 'friendsCount': 1576,\n",
       " 'statusesCount': 14396,\n",
       " 'favouritesCount': 26071,\n",
       " 'listedCount': 1,\n",
       " 'mediaCount': 254,\n",
       " 'location': 'Azm Uttar Pradesh, India',\n",
       " 'protected': False,\n",
       " 'linkUrl': None,\n",
       " 'linkTcourl': None,\n",
       " 'profileImageUrl': 'https://pbs.twimg.com/profile_images/1354331299868237825/eDzdhZTD_normal.jpg',\n",
       " 'profileBannerUrl': 'https://pbs.twimg.com/profile_banners/1015969769760096256/1613727783',\n",
       " 'url': 'https://twitter.com/ShashiRajbhar6'}"
      ]
     },
     "execution_count": 102,
     "metadata": {},
     "output_type": "execute_result"
    }
   ],
   "source": [
    "tweets[0]['user']"
   ]
  },
  {
   "cell_type": "markdown",
   "metadata": {},
   "source": [
    "### Función 1"
   ]
  },
  {
   "cell_type": "code",
   "execution_count": 67,
   "metadata": {},
   "outputs": [],
   "source": [
    "def top_tweets():\n",
    "    teewts_copy = tweets\n",
    "    total_tweets = len(tweets)\n",
    "    min_of_max = 0\n",
    "    more_retweeted = sorted(teewts_copy, key=lambda tweet : tweet['retweetCount'])\n",
    "\n",
    "    for j in range(0, 10):\n",
    "        print(str(j+1)+')', more_retweeted[total_tweets-j-1]['url'], \"Retweed:\", more_retweeted[total_tweets-j-1]['retweetCount'])\n",
    "                \n",
    "    "
   ]
  },
  {
   "cell_type": "markdown",
   "metadata": {},
   "source": [
    "### Función 2"
   ]
  },
  {
   "cell_type": "code",
   "execution_count": 89,
   "metadata": {},
   "outputs": [],
   "source": [
    "def top_users():\n",
    "    total_tweets = len(tweets)\n",
    "    teewts_copy_1 = tweets\n",
    "    list_users = []\n",
    "    for i in range(0,total_tweets):\n",
    "        list_users.append(teewts_copy_1[i]['user'])\n",
    "    \n",
    "    more_teewteros = sorted(list_users, key=lambda count : count['statusesCount']) \n",
    "    \n",
    "    count = 0\n",
    "    position = 0\n",
    "    list_ids = []\n",
    "    top_ten = []\n",
    "    while count < 10:\n",
    "        if more_teewteros[total_tweets-position-1]['id'] not in list_ids:\n",
    "            list_ids.append(more_teewteros[total_tweets-position-1]['id'])\n",
    "            top_ten.append(more_teewteros[total_tweets-position-1])\n",
    "            \n",
    "            count += 1\n",
    "        position += 1\n",
    "        \n",
    "    for j in range(0, 10):\n",
    "        print(str(j+1)+')', top_ten[j]['username'],\"Total:\", top_ten[j]['statusesCount'])\n",
    "\n",
    "\n",
    "    "
   ]
  },
  {
   "cell_type": "markdown",
   "metadata": {},
   "source": [
    "### Función 3"
   ]
  },
  {
   "cell_type": "code",
   "execution_count": 106,
   "metadata": {},
   "outputs": [],
   "source": [
    "from collections import defaultdict "
   ]
  },
  {
   "cell_type": "code",
   "execution_count": 248,
   "metadata": {},
   "outputs": [],
   "source": [
    "def top_days():\n",
    "    my_dict = defaultdict(list) \n",
    "    another_dict = dict()\n",
    "    teewts_copy_2 = tweets\n",
    "    for ele in teewts_copy_2: \n",
    "        my_dict[ele['date'][0:10]].append(ele['id'])\n",
    "\n",
    "    for key, value in my_dict.items():\n",
    "        another_dict[key]=len(value)\n",
    "    \n",
    "    sorted_dict = sorted(another_dict.items(), key=operator.itemgetter(1))\n",
    "\n",
    "    cant_dates = len(sorted_dict)\n",
    "    for j in range(0, 10):\n",
    "        print(str(j+1)+')', sorted_dict[cant_dates-j-1][0],\"Tweets:\", sorted_dict[cant_dates-j-1][1])\n"
   ]
  },
  {
   "cell_type": "markdown",
   "metadata": {},
   "source": [
    "### Main"
   ]
  },
  {
   "cell_type": "code",
   "execution_count": null,
   "metadata": {},
   "outputs": [],
   "source": [
    "def main():\n",
    "    print(\"Top 10 tweets más retweeted\\n\")\n",
    "    top_tweets()\n",
    "    print(\"\\nTop 10 users más tweeteros\\n\")\n",
    "    top_users()\n",
    "    \n",
    "    print(\"\\nTop 10 users más tweeteros\\n\")\n",
    "    top_users()\n",
    "    \n",
    "    print(\"\\nTop 10 días con más tweets\\n\")\n",
    "    top_days()\n",
    "    \n",
    "main()"
   ]
  },
  {
   "cell_type": "markdown",
   "metadata": {},
   "source": [
    "#### Referencias"
   ]
  },
  {
   "cell_type": "markdown",
   "metadata": {},
   "source": [
    "https://j2logo.com/python/ordenar-una-lista-en-python/"
   ]
  },
  {
   "cell_type": "markdown",
   "metadata": {},
   "source": [
    "https://es.acervolima.com/python-agrupar-elementos-similares-a-la-lista-de-valores-del-diccionario/"
   ]
  },
  {
   "cell_type": "markdown",
   "metadata": {},
   "source": [
    "https://www.w3resource.com/python-exercises/dictionary/python-data-type-dictionary-exercise-1.php#:~:text=Use%20dict.,based%20on%20the%20second%20argument"
   ]
  }
 ],
 "metadata": {
  "kernelspec": {
   "display_name": "Python 3",
   "language": "python",
   "name": "python3"
  },
  "language_info": {
   "codemirror_mode": {
    "name": "ipython",
    "version": 3
   },
   "file_extension": ".py",
   "mimetype": "text/x-python",
   "name": "python",
   "nbconvert_exporter": "python",
   "pygments_lexer": "ipython3",
   "version": "3.8.6"
  }
 },
 "nbformat": 4,
 "nbformat_minor": 4
}
