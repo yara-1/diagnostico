{
 "cells": [
  {
   "cell_type": "markdown",
   "metadata": {},
   "source": [
    "## Evaluación diagnostica"
   ]
  },
  {
   "cell_type": "code",
   "execution_count": 1,
   "metadata": {},
   "outputs": [],
   "source": [
    "import re\n",
    "import json"
   ]
  },
  {
   "cell_type": "code",
   "execution_count": 22,
   "metadata": {},
   "outputs": [],
   "source": [
    "tweets = []\n",
    "for line in open('data.json', 'r'):\n",
    "    tweets.append(json.loads(line))"
   ]
  },
  {
   "cell_type": "code",
   "execution_count": 91,
   "metadata": {},
   "outputs": [
    {
     "data": {
      "text/plain": [
       "{'username': 'ShashiRajbhar6',\n",
       " 'displayname': 'Shashi Rajbhar',\n",
       " 'id': 1015969769760096256,\n",
       " 'description': \"Satya presan 🤔ho Sakta but prajit💪 nhi\\njhuth se samjhauta kbhi nhi\\nJai Shree Ram 🕉 🙏🕉 followed by hon'ble @ArunrajbharSbsp\",\n",
       " 'rawDescription': \"Satya presan 🤔ho Sakta but prajit💪 nhi\\njhuth se samjhauta kbhi nhi\\nJai Shree Ram 🕉 🙏🕉 followed by hon'ble @ArunrajbharSbsp\",\n",
       " 'descriptionUrls': [],\n",
       " 'verified': False,\n",
       " 'created': '2018-07-08T14:44:03+00:00',\n",
       " 'followersCount': 1788,\n",
       " 'friendsCount': 1576,\n",
       " 'statusesCount': 14396,\n",
       " 'favouritesCount': 26071,\n",
       " 'listedCount': 1,\n",
       " 'mediaCount': 254,\n",
       " 'location': 'Azm Uttar Pradesh, India',\n",
       " 'protected': False,\n",
       " 'linkUrl': None,\n",
       " 'linkTcourl': None,\n",
       " 'profileImageUrl': 'https://pbs.twimg.com/profile_images/1354331299868237825/eDzdhZTD_normal.jpg',\n",
       " 'profileBannerUrl': 'https://pbs.twimg.com/profile_banners/1015969769760096256/1613727783',\n",
       " 'url': 'https://twitter.com/ShashiRajbhar6'}"
      ]
     },
     "execution_count": 91,
     "metadata": {},
     "output_type": "execute_result"
    }
   ],
   "source": [
    "tweets[0]['user']"
   ]
  },
  {
   "cell_type": "markdown",
   "metadata": {},
   "source": [
    "### Función 1"
   ]
  },
  {
   "cell_type": "code",
   "execution_count": 67,
   "metadata": {},
   "outputs": [],
   "source": [
    "def top_tweets():\n",
    "    teewts_copy = tweets\n",
    "    total_tweets = len(tweets)\n",
    "    min_of_max = 0\n",
    "    more_retweeted = sorted(teewts_copy, key=lambda tweet : tweet['retweetCount'])\n",
    "\n",
    "    for j in range(0, 10):\n",
    "        print(str(j+1)+')', more_retweeted[total_tweets-j-1]['url'], \"Retweed:\", more_retweeted[total_tweets-j-1]['retweetCount'])\n",
    "                \n",
    "    "
   ]
  },
  {
   "cell_type": "markdown",
   "metadata": {},
   "source": [
    "### Función 2"
   ]
  },
  {
   "cell_type": "code",
   "execution_count": 89,
   "metadata": {},
   "outputs": [],
   "source": [
    "def top_users():\n",
    "    total_tweets = len(tweets)\n",
    "    teewts_copy_1 = tweets\n",
    "    list_users = []\n",
    "    for i in range(0,total_tweets):\n",
    "        list_users.append(teewts_copy_1[i]['user'])\n",
    "    \n",
    "    more_teewteros = sorted(list_users, key=lambda count : count['statusesCount']) \n",
    "    \n",
    "    count = 0\n",
    "    position = 0\n",
    "    list_ids = []\n",
    "    top_ten = []\n",
    "    while count < 10:\n",
    "        if more_teewteros[total_tweets-position-1]['id'] not in list_ids:\n",
    "            list_ids.append(more_teewteros[total_tweets-position-1]['id'])\n",
    "            top_ten.append(more_teewteros[total_tweets-position-1])\n",
    "            \n",
    "            count += 1\n",
    "        position += 1\n",
    "        \n",
    "    for j in range(0, 10):\n",
    "        print(str(j+1)+')', top_ten[j]['username'],\"Total:\", top_ten[j]['statusesCount'])\n",
    "\n",
    "\n",
    "    "
   ]
  },
  {
   "cell_type": "markdown",
   "metadata": {},
   "source": [
    "### Main"
   ]
  },
  {
   "cell_type": "code",
   "execution_count": 90,
   "metadata": {},
   "outputs": [
    {
     "name": "stdout",
     "output_type": "stream",
     "text": [
      "Top 10 tweets más retweeted\n",
      "\n",
      "1) https://twitter.com/rihanna/status/1356625889602199552 Retweed: 315547\n",
      "2) https://twitter.com/GretaThunberg/status/1356694884615340037 Retweed: 103957\n",
      "3) https://twitter.com/GretaThunberg/status/1357282507616645122 Retweed: 67694\n",
      "4) https://twitter.com/miakhalifa/status/1356848397899112448 Retweed: 35921\n",
      "5) https://twitter.com/miakhalifa/status/1356827705161879553 Retweed: 26972\n",
      "6) https://twitter.com/TeamJuJu/status/1357048037302960129 Retweed: 23251\n",
      "7) https://twitter.com/BobBlackman/status/1357755699162398720 Retweed: 20132\n",
      "8) https://twitter.com/vanessa_vash/status/1356681136655769605 Retweed: 18744\n",
      "9) https://twitter.com/kylekuzma/status/1357009721090138112 Retweed: 17368\n",
      "10) https://twitter.com/AmandaCerny/status/1359013362881994752 Retweed: 15677\n",
      "\n",
      "Top 10 users más tweeteros\n",
      "\n",
      "1) threadreaderapp Total: 1762461\n",
      "2) GeorgekurianINC Total: 1711890\n",
      "3) CyberAnonymous Total: 1435641\n",
      "4) unbiased100 Total: 1027493\n",
      "5) pavan_sethi Total: 1015822\n",
      "6) animesh1977 Total: 974774\n",
      "7) CNBCTV18Live Total: 944150\n",
      "8) htTweets Total: 867974\n",
      "9) CNNnews18 Total: 863754\n",
      "10) IndiaToday Total: 851154\n"
     ]
    }
   ],
   "source": [
    "def main():\n",
    "    print(\"Top 10 tweets más retweeted\\n\")\n",
    "    top_tweets()\n",
    "    print(\"\\nTop 10 users más tweeteros\\n\")\n",
    "    top_users()\n",
    "    \n",
    "main()"
   ]
  },
  {
   "cell_type": "markdown",
   "metadata": {},
   "source": [
    "#### Referencias"
   ]
  },
  {
   "cell_type": "markdown",
   "metadata": {},
   "source": [
    "https://j2logo.com/python/ordenar-una-lista-en-python/"
   ]
  }
 ],
 "metadata": {
  "kernelspec": {
   "display_name": "Python 3",
   "language": "python",
   "name": "python3"
  },
  "language_info": {
   "codemirror_mode": {
    "name": "ipython",
    "version": 3
   },
   "file_extension": ".py",
   "mimetype": "text/x-python",
   "name": "python",
   "nbconvert_exporter": "python",
   "pygments_lexer": "ipython3",
   "version": "3.8.6"
  }
 },
 "nbformat": 4,
 "nbformat_minor": 4
}
