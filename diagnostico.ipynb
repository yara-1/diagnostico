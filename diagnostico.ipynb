{
 "cells": [
  {
   "cell_type": "markdown",
   "metadata": {},
   "source": [
    "## Evaluación diagnostica"
   ]
  },
  {
   "cell_type": "code",
   "execution_count": 220,
   "metadata": {},
   "outputs": [],
   "source": [
    "import re\n",
    "import operator\n",
    "import json"
   ]
  },
  {
   "cell_type": "code",
   "execution_count": 22,
   "metadata": {},
   "outputs": [],
   "source": [
    "tweets = []\n",
    "for line in open('data.json', 'r'):\n",
    "    tweets.append(json.loads(line))"
   ]
  },
  {
   "cell_type": "code",
   "execution_count": 103,
   "metadata": {},
   "outputs": [
    {
     "data": {
      "text/plain": [
       "'2018-07-08T14:44:03+00:00'"
      ]
     },
     "execution_count": 103,
     "metadata": {},
     "output_type": "execute_result"
    }
   ],
   "source": [
    "tweets[0]['user']['created']"
   ]
  },
  {
   "cell_type": "code",
   "execution_count": 102,
   "metadata": {},
   "outputs": [
    {
     "data": {
      "text/plain": [
       "{'url': 'https://twitter.com/ShashiRajbhar6/status/1376739399593910273',\n",
       " 'date': '2021-03-30T03:33:46+00:00',\n",
       " 'content': 'Support 👇\\n\\n#FarmersProtest',\n",
       " 'renderedContent': 'Support 👇\\n\\n#FarmersProtest',\n",
       " 'id': 1376739399593910273,\n",
       " 'user': {'username': 'ShashiRajbhar6',\n",
       "  'displayname': 'Shashi Rajbhar',\n",
       "  'id': 1015969769760096256,\n",
       "  'description': \"Satya presan 🤔ho Sakta but prajit💪 nhi\\njhuth se samjhauta kbhi nhi\\nJai Shree Ram 🕉 🙏🕉 followed by hon'ble @ArunrajbharSbsp\",\n",
       "  'rawDescription': \"Satya presan 🤔ho Sakta but prajit💪 nhi\\njhuth se samjhauta kbhi nhi\\nJai Shree Ram 🕉 🙏🕉 followed by hon'ble @ArunrajbharSbsp\",\n",
       "  'descriptionUrls': [],\n",
       "  'verified': False,\n",
       "  'created': '2018-07-08T14:44:03+00:00',\n",
       "  'followersCount': 1788,\n",
       "  'friendsCount': 1576,\n",
       "  'statusesCount': 14396,\n",
       "  'favouritesCount': 26071,\n",
       "  'listedCount': 1,\n",
       "  'mediaCount': 254,\n",
       "  'location': 'Azm Uttar Pradesh, India',\n",
       "  'protected': False,\n",
       "  'linkUrl': None,\n",
       "  'linkTcourl': None,\n",
       "  'profileImageUrl': 'https://pbs.twimg.com/profile_images/1354331299868237825/eDzdhZTD_normal.jpg',\n",
       "  'profileBannerUrl': 'https://pbs.twimg.com/profile_banners/1015969769760096256/1613727783',\n",
       "  'url': 'https://twitter.com/ShashiRajbhar6'},\n",
       " 'outlinks': [],\n",
       " 'tcooutlinks': [],\n",
       " 'replyCount': 0,\n",
       " 'retweetCount': 0,\n",
       " 'likeCount': 0,\n",
       " 'quoteCount': 0,\n",
       " 'conversationId': 1376739399593910273,\n",
       " 'lang': 'en',\n",
       " 'source': '<a href=\"http://twitter.com/download/android\" rel=\"nofollow\">Twitter for Android</a>',\n",
       " 'sourceUrl': 'http://twitter.com/download/android',\n",
       " 'sourceLabel': 'Twitter for Android',\n",
       " 'media': None,\n",
       " 'retweetedTweet': None,\n",
       " 'quotedTweet': None,\n",
       " 'mentionedUsers': None}"
      ]
     },
     "execution_count": 102,
     "metadata": {},
     "output_type": "execute_result"
    }
   ],
   "source": [
    "tweets[0]"
   ]
  },
  {
   "cell_type": "markdown",
   "metadata": {},
   "source": [
    "### Función 1"
   ]
  },
  {
   "cell_type": "code",
   "execution_count": 67,
   "metadata": {},
   "outputs": [],
   "source": [
    "def top_tweets():\n",
    "    teewts_copy = tweets\n",
    "    total_tweets = len(tweets)\n",
    "    min_of_max = 0\n",
    "    more_retweeted = sorted(teewts_copy, key=lambda tweet : tweet['retweetCount'])\n",
    "\n",
    "    for j in range(0, 10):\n",
    "        print(str(j+1)+')', more_retweeted[total_tweets-j-1]['url'], \"Retweed:\", more_retweeted[total_tweets-j-1]['retweetCount'])\n",
    "                \n",
    "    "
   ]
  },
  {
   "cell_type": "markdown",
   "metadata": {},
   "source": [
    "### Función 2"
   ]
  },
  {
   "cell_type": "code",
   "execution_count": 89,
   "metadata": {},
   "outputs": [],
   "source": [
    "def top_users():\n",
    "    total_tweets = len(tweets)\n",
    "    teewts_copy_1 = tweets\n",
    "    list_users = []\n",
    "    for i in range(0,total_tweets):\n",
    "        list_users.append(teewts_copy_1[i]['user'])\n",
    "    \n",
    "    more_teewteros = sorted(list_users, key=lambda count : count['statusesCount']) \n",
    "    \n",
    "    count = 0\n",
    "    position = 0\n",
    "    list_ids = []\n",
    "    top_ten = []\n",
    "    while count < 10:\n",
    "        if more_teewteros[total_tweets-position-1]['id'] not in list_ids:\n",
    "            list_ids.append(more_teewteros[total_tweets-position-1]['id'])\n",
    "            top_ten.append(more_teewteros[total_tweets-position-1])\n",
    "            \n",
    "            count += 1\n",
    "        position += 1\n",
    "        \n",
    "    for j in range(0, 10):\n",
    "        print(str(j+1)+')', top_ten[j]['username'],\"Total:\", top_ten[j]['statusesCount'])\n",
    "\n",
    "\n",
    "    "
   ]
  },
  {
   "cell_type": "markdown",
   "metadata": {},
   "source": [
    "### Función 3"
   ]
  },
  {
   "cell_type": "code",
   "execution_count": 106,
   "metadata": {},
   "outputs": [],
   "source": [
    "from collections import defaultdict "
   ]
  },
  {
   "cell_type": "code",
   "execution_count": 245,
   "metadata": {},
   "outputs": [],
   "source": [
    "def top_days():\n",
    "    my_dict = defaultdict(list) \n",
    "    another_dict = dict()\n",
    "    teewts_copy_2 = tweets\n",
    "    for ele in teewts_copy_2: \n",
    "        my_dict[ele['date'][0:10]].append(ele['id'])\n",
    "\n",
    "    for key, value in my_dict.items():\n",
    "        another_dict[key]=len(value)\n",
    "    \n",
    "    sorted_dict = sorted(another_dict.items(), key=operator.itemgetter(1))\n",
    "\n",
    "    cant_dates = len(sorted_dict)\n",
    "    for j in range(0, 10):\n",
    "        print(str(j+1)+')', sorted_dict[cant_dates-j-1][0],\"Tweets:\", sorted_dict[cant_dates-j-1][1])\n"
   ]
  },
  {
   "cell_type": "markdown",
   "metadata": {},
   "source": [
    "### Main"
   ]
  },
  {
   "cell_type": "code",
   "execution_count": 246,
   "metadata": {},
   "outputs": [
    {
     "name": "stdout",
     "output_type": "stream",
     "text": [
      "Top 10 tweets más retweeted\n",
      "\n",
      "1) https://twitter.com/rihanna/status/1356625889602199552 Retweed: 315547\n",
      "2) https://twitter.com/GretaThunberg/status/1356694884615340037 Retweed: 103957\n",
      "3) https://twitter.com/GretaThunberg/status/1357282507616645122 Retweed: 67694\n",
      "4) https://twitter.com/miakhalifa/status/1356848397899112448 Retweed: 35921\n",
      "5) https://twitter.com/miakhalifa/status/1356827705161879553 Retweed: 26972\n",
      "6) https://twitter.com/TeamJuJu/status/1357048037302960129 Retweed: 23251\n",
      "7) https://twitter.com/BobBlackman/status/1357755699162398720 Retweed: 20132\n",
      "8) https://twitter.com/vanessa_vash/status/1356681136655769605 Retweed: 18744\n",
      "9) https://twitter.com/kylekuzma/status/1357009721090138112 Retweed: 17368\n",
      "10) https://twitter.com/AmandaCerny/status/1359013362881994752 Retweed: 15677\n",
      "\n",
      "Top 10 users más tweeteros\n",
      "\n",
      "1) threadreaderapp Total: 1762461\n",
      "2) GeorgekurianINC Total: 1711890\n",
      "3) CyberAnonymous Total: 1435641\n",
      "4) unbiased100 Total: 1027493\n",
      "5) pavan_sethi Total: 1015822\n",
      "6) animesh1977 Total: 974774\n",
      "7) CNBCTV18Live Total: 944150\n",
      "8) htTweets Total: 867974\n",
      "9) CNNnews18 Total: 863754\n",
      "10) IndiaToday Total: 851154\n",
      "\n",
      "Top 10 días con más tweets\n",
      "\n",
      "[('2021-03-30', 576), ('2021-03-07', 1994), ('2021-03-14', 2091), ('2021-03-29', 2118), ('2021-03-22', 2138), ('2021-03-24', 2193), ('2021-03-12', 2230), ('2021-03-11', 2238), ('2021-03-23', 2382), ('2021-03-15', 2411), ('2021-03-28', 2432), ('2021-03-17', 2451), ('2021-03-03', 2468), ('2021-03-13', 2492), ('2021-03-19', 2516), ('2021-03-25', 2584), ('2021-03-20', 2595), ('2021-03-08', 2603), ('2021-03-04', 2625), ('2021-03-21', 2650), ('2021-03-10', 2770), ('2021-03-09', 2775), ('2021-03-01', 2827), ('2021-03-18', 2964), ('2021-03-27', 2995), ('2021-02-28', 3035), ('2021-03-16', 3113), ('2021-03-05', 3181), ('2021-03-02', 3214), ('2021-02-24', 3244), ('2021-02-27', 3267), ('2021-02-22', 3278), ('2021-03-06', 3477), ('2021-02-21', 3500), ('2021-02-26', 3598), ('2021-02-23', 3641), ('2021-02-25', 3654), ('2021-02-19', 3735), ('2021-02-18', 3875), ('2021-03-26', 3958), ('2021-02-20', 4003), ('2021-02-15', 4413), ('2021-02-16', 4523), ('2021-02-14', 4561), ('2021-02-13', 4599), ('2021-02-12', 4961), ('2021-02-17', 5015), ('2021-02-01', 5535), ('2021-02-11', 5698), ('2021-02-10', 7973), ('2021-02-08', 8920), ('2021-02-09', 9320), ('2021-02-07', 11325), ('2021-02-06', 22420), ('2021-02-02', 28548), ('2021-02-05', 33332), ('2021-02-04', 58607), ('2021-02-03', 83866)]\n",
      "1) 2021-02-03 Tweets: 83866\n",
      "2) 2021-02-04 Tweets: 58607\n",
      "3) 2021-02-05 Tweets: 33332\n",
      "4) 2021-02-02 Tweets: 28548\n",
      "5) 2021-02-06 Tweets: 22420\n",
      "6) 2021-02-07 Tweets: 11325\n",
      "7) 2021-02-09 Tweets: 9320\n",
      "8) 2021-02-08 Tweets: 8920\n",
      "9) 2021-02-10 Tweets: 7973\n",
      "10) 2021-02-11 Tweets: 5698\n"
     ]
    }
   ],
   "source": [
    "def main():\n",
    "    print(\"Top 10 tweets más retweeted\\n\")\n",
    "    top_tweets()\n",
    "    \n",
    "    print(\"\\nTop 10 users más tweeteros\\n\")\n",
    "    top_users()\n",
    "    \n",
    "    print(\"\\nTop 10 días con más tweets\\n\")\n",
    "    top_days()\n",
    "    \n",
    "main()"
   ]
  },
  {
   "cell_type": "markdown",
   "metadata": {},
   "source": [
    "#### Referencias"
   ]
  },
  {
   "cell_type": "markdown",
   "metadata": {},
   "source": [
    "https://j2logo.com/python/ordenar-una-lista-en-python/"
   ]
  },
  {
   "cell_type": "markdown",
   "metadata": {},
   "source": [
    "https://es.acervolima.com/python-agrupar-elementos-similares-a-la-lista-de-valores-del-diccionario/"
   ]
  },
  {
   "cell_type": "markdown",
   "metadata": {},
   "source": [
    "https://www.w3resource.com/python-exercises/dictionary/python-data-type-dictionary-exercise-1.php#:~:text=Use%20dict.,based%20on%20the%20second%20argument"
   ]
  }
 ],
 "metadata": {
  "kernelspec": {
   "display_name": "Python 3",
   "language": "python",
   "name": "python3"
  },
  "language_info": {
   "codemirror_mode": {
    "name": "ipython",
    "version": 3
   },
   "file_extension": ".py",
   "mimetype": "text/x-python",
   "name": "python",
   "nbconvert_exporter": "python",
   "pygments_lexer": "ipython3",
   "version": "3.8.6"
  }
 },
 "nbformat": 4,
 "nbformat_minor": 4
}
